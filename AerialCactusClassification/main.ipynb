{
 "cells": [
  {
   "cell_type": "code",
   "execution_count": 31,
   "metadata": {},
   "outputs": [],
   "source": [
    "import torch\n",
    "import torchvision\n",
    "import torch.nn as nn\n",
    "import torchvision.transforms as transforms\n",
    "import torch.optim as optim\n",
    "import torch.nn.functional as F\n",
    "import numpy as np\n",
    "import pandas as pd\n",
    "import matplotlib.pyplot as plt\n",
    "import matplotlib.image as img\n",
    "import os\n",
    "from sklearn.model_selection import train_test_split\n",
    "from torch.utils.data import Dataset, DataLoader\n",
    "\n",
    "%matplotlib inline"
   ]
  },
  {
   "cell_type": "code",
   "execution_count": 3,
   "metadata": {},
   "outputs": [],
   "source": [
    "os.getcwd()\n",
    "labels = pd.read_csv('dataset/train/labels/train.csv')\n",
    "\n",
    "train_path = r'dataset/train/train/'\n",
    "test_path = r'dataset/test/'"
   ]
  },
  {
   "cell_type": "code",
   "execution_count": 4,
   "metadata": {},
   "outputs": [
    {
     "data": {
      "text/html": [
       "<div>\n",
       "<style scoped>\n",
       "    .dataframe tbody tr th:only-of-type {\n",
       "        vertical-align: middle;\n",
       "    }\n",
       "\n",
       "    .dataframe tbody tr th {\n",
       "        vertical-align: top;\n",
       "    }\n",
       "\n",
       "    .dataframe thead th {\n",
       "        text-align: right;\n",
       "    }\n",
       "</style>\n",
       "<table border=\"1\" class=\"dataframe\">\n",
       "  <thead>\n",
       "    <tr style=\"text-align: right;\">\n",
       "      <th></th>\n",
       "      <th>id</th>\n",
       "      <th>has_cactus</th>\n",
       "    </tr>\n",
       "  </thead>\n",
       "  <tbody>\n",
       "    <tr>\n",
       "      <th>0</th>\n",
       "      <td>0004be2cfeaba1c0361d39e2b000257b.jpg</td>\n",
       "      <td>1</td>\n",
       "    </tr>\n",
       "    <tr>\n",
       "      <th>1</th>\n",
       "      <td>000c8a36845c0208e833c79c1bffedd1.jpg</td>\n",
       "      <td>1</td>\n",
       "    </tr>\n",
       "    <tr>\n",
       "      <th>2</th>\n",
       "      <td>000d1e9a533f62e55c289303b072733d.jpg</td>\n",
       "      <td>1</td>\n",
       "    </tr>\n",
       "    <tr>\n",
       "      <th>3</th>\n",
       "      <td>0011485b40695e9138e92d0b3fb55128.jpg</td>\n",
       "      <td>1</td>\n",
       "    </tr>\n",
       "    <tr>\n",
       "      <th>4</th>\n",
       "      <td>0014d7a11e90b62848904c1418fc8cf2.jpg</td>\n",
       "      <td>1</td>\n",
       "    </tr>\n",
       "  </tbody>\n",
       "</table>\n",
       "</div>"
      ],
      "text/plain": [
       "                                     id  has_cactus\n",
       "0  0004be2cfeaba1c0361d39e2b000257b.jpg           1\n",
       "1  000c8a36845c0208e833c79c1bffedd1.jpg           1\n",
       "2  000d1e9a533f62e55c289303b072733d.jpg           1\n",
       "3  0011485b40695e9138e92d0b3fb55128.jpg           1\n",
       "4  0014d7a11e90b62848904c1418fc8cf2.jpg           1"
      ]
     },
     "execution_count": 4,
     "metadata": {},
     "output_type": "execute_result"
    }
   ],
   "source": [
    "labels.head()"
   ]
  },
  {
   "cell_type": "code",
   "execution_count": 5,
   "metadata": {},
   "outputs": [
    {
     "data": {
      "text/html": [
       "<div>\n",
       "<style scoped>\n",
       "    .dataframe tbody tr th:only-of-type {\n",
       "        vertical-align: middle;\n",
       "    }\n",
       "\n",
       "    .dataframe tbody tr th {\n",
       "        vertical-align: top;\n",
       "    }\n",
       "\n",
       "    .dataframe thead th {\n",
       "        text-align: right;\n",
       "    }\n",
       "</style>\n",
       "<table border=\"1\" class=\"dataframe\">\n",
       "  <thead>\n",
       "    <tr style=\"text-align: right;\">\n",
       "      <th></th>\n",
       "      <th>id</th>\n",
       "      <th>has_cactus</th>\n",
       "    </tr>\n",
       "  </thead>\n",
       "  <tbody>\n",
       "    <tr>\n",
       "      <th>17495</th>\n",
       "      <td>ffede47a74e47a5930f81c0b6896479e.jpg</td>\n",
       "      <td>0</td>\n",
       "    </tr>\n",
       "    <tr>\n",
       "      <th>17496</th>\n",
       "      <td>ffef6382a50d23251d4bc05519c91037.jpg</td>\n",
       "      <td>1</td>\n",
       "    </tr>\n",
       "    <tr>\n",
       "      <th>17497</th>\n",
       "      <td>fff059ecc91b30be5745e8b81111dc7b.jpg</td>\n",
       "      <td>1</td>\n",
       "    </tr>\n",
       "    <tr>\n",
       "      <th>17498</th>\n",
       "      <td>fff43acb3b7a23edcc4ae937be2b7522.jpg</td>\n",
       "      <td>0</td>\n",
       "    </tr>\n",
       "    <tr>\n",
       "      <th>17499</th>\n",
       "      <td>fffd9e9b990eba07c836745d8aef1a3a.jpg</td>\n",
       "      <td>1</td>\n",
       "    </tr>\n",
       "  </tbody>\n",
       "</table>\n",
       "</div>"
      ],
      "text/plain": [
       "                                         id  has_cactus\n",
       "17495  ffede47a74e47a5930f81c0b6896479e.jpg           0\n",
       "17496  ffef6382a50d23251d4bc05519c91037.jpg           1\n",
       "17497  fff059ecc91b30be5745e8b81111dc7b.jpg           1\n",
       "17498  fff43acb3b7a23edcc4ae937be2b7522.jpg           0\n",
       "17499  fffd9e9b990eba07c836745d8aef1a3a.jpg           1"
      ]
     },
     "execution_count": 5,
     "metadata": {},
     "output_type": "execute_result"
    }
   ],
   "source": [
    "labels.tail()"
   ]
  },
  {
   "cell_type": "code",
   "execution_count": 6,
   "metadata": {},
   "outputs": [
    {
     "data": {
      "text/plain": [
       "1    13136\n",
       "0     4364\n",
       "Name: has_cactus, dtype: int64"
      ]
     },
     "execution_count": 6,
     "metadata": {},
     "output_type": "execute_result"
    }
   ],
   "source": [
    "labels['has_cactus'].value_counts()"
   ]
  },
  {
   "cell_type": "code",
   "execution_count": 9,
   "metadata": {},
   "outputs": [
    {
     "data": {
      "image/png": "[encoded data removed]",
      "text/plain": [
       "<Figure size 1500x300 with 5 Axes>"
      ]
     },
     "metadata": {},
     "output_type": "display_data"
    }
   ],
   "source": [
    "fig, ax = plt.subplots(1, 5, figsize=(15, 3))\n",
    "\n",
    "for i, idx in enumerate(labels[labels['has_cactus'] == 0]['id'][:5]):\n",
    "    try:\n",
    "        path = os.path.join(train_path, idx)\n",
    "        ax[i].imshow(img.imread(path))\n",
    "    except FileNotFoundError:\n",
    "        print('File could not be found in the specified path!')"
   ]
  },
  {
   "cell_type": "code",
   "execution_count": 10,
   "metadata": {},
   "outputs": [
    {
     "data": {
      "image/png": "[encoded data removed]",
      "text/plain": [
       "<Figure size 1500x300 with 5 Axes>"
      ]
     },
     "metadata": {},
     "output_type": "display_data"
    }
   ],
   "source": [
    "fig, ax = plt.subplots(1, 5, figsize=(15, 3))\n",
    "\n",
    "for i, idx in enumerate(labels[labels['has_cactus'] == 1]['id'][:5]):\n",
    "    try:\n",
    "        path = os.path.join(train_path, idx)\n",
    "        ax[i].imshow(img.imread(path))\n",
    "    except FileNotFoundError:\n",
    "        print('File could not be found in the specified path!')"
   ]
  },
  {
   "cell_type": "code",
   "execution_count": 18,
   "metadata": {},
   "outputs": [],
   "source": [
    "class AerialCactiDataset(Dataset):\n",
    "    def __init__(self, data, path, transform=None):\n",
    "        super().__init__()\n",
    "        self.data = data.values\n",
    "        self.path = path\n",
    "        self.transform = transform\n",
    "    \n",
    "    def __len__(self):\n",
    "        return len(self.data)\n",
    "    \n",
    "    def __getitem__(self, idx):\n",
    "        img_name, label = self.data[idx]\n",
    "        img_path = os.path.join(self.path, img_name)\n",
    "        image = img.imread(img_path)\n",
    "\n",
    "        if self.transform is not None:\n",
    "            image = self.transform(image)\n",
    "        \n",
    "        return image, label\n",
    "\n",
    "\n",
    "def calculate_mean_std(path):\n",
    "    mean_sum = np.zeros(3)\n",
    "    std_sum = np.zeros(3)\n",
    "    num_samples = 0\n",
    "\n",
    "    for root, dirs, files in os.walk(path):\n",
    "        for file in files:\n",
    "            image_path = os.path.join(root, file)\n",
    "            image_rd = img.imread(image_path)\n",
    "            image_rd = image_rd / 255.0\n",
    "\n",
    "            mean_sum += np.mean(image_rd, axis=(0, 1))\n",
    "            std_sum += np.std(image_rd, axis=(0, 1))\n",
    "            num_samples += 1\n",
    "\n",
    "    mean = mean_sum / num_samples\n",
    "    std = std_sum / num_samples\n",
    "\n",
    "    return mean, std\n",
    "\n",
    "def get_transform(mean, std):\n",
    "    transform = transforms.Compose([transforms.ToPILImage(),\n",
    "                                    transforms.ToTensor(),\n",
    "                                    transforms.Normalize(mean=mean,\n",
    "                                                         std=std)])\n",
    "    \n",
    "    return transform"
   ]
  },
  {
   "cell_type": "code",
   "execution_count": 14,
   "metadata": {},
   "outputs": [],
   "source": [
    "train, val_data = train_test_split(labels,\n",
    "                                   stratify=labels.has_cactus,\n",
    "                                   test_size=0.2)"
   ]
  },
  {
   "cell_type": "code",
   "execution_count": 20,
   "metadata": {},
   "outputs": [],
   "source": [
    "train_mean, train_std = calculate_mean_std(train_path)\n",
    "test_mean, test_std = calculate_mean_std(test_path)\n",
    "\n",
    "train_transform = get_transform(train_mean, train_std)\n",
    "val_transform = get_transform(train_mean, train_std)\n",
    "test_transform = get_transform(test_mean, test_std)\n",
    "\n",
    "test = pd.read_csv('dataset/sample_submission.csv')\n",
    "\n",
    "train_data = AerialCactiDataset(train, train_path, train_transform)\n",
    "val_data = AerialCactiDataset(val_data, train_path, val_transform)\n",
    "test_data = AerialCactiDataset(test, test_path, test_transform)\n"
   ]
  },
  {
   "cell_type": "code",
   "execution_count": 32,
   "metadata": {},
   "outputs": [],
   "source": [
    "# Define hyperparameters\n",
    "\n",
    "num_epochs = 35\n",
    "num_classes = 2\n",
    "batch_size = 25\n",
    "learning_rate = 0.01"
   ]
  },
  {
   "cell_type": "code",
   "execution_count": 33,
   "metadata": {},
   "outputs": [],
   "source": [
    "train_loader = DataLoader(dataset=train_data,\n",
    "                          batch_size=batch_size,\n",
    "                          shuffle=True,\n",
    "                          num_workers=0)\n",
    "\n",
    "val_loader = DataLoader(dataset=val_data,\n",
    "                        batch_size=batch_size,\n",
    "                        shuffle=False,\n",
    "                        num_workers=0)\n",
    "\n",
    "test_loader = DataLoader(dataset=test_data,\n",
    "                        batch_size=batch_size,\n",
    "                        shuffle=False,\n",
    "                        num_workers=0)"
   ]
  },
  {
   "cell_type": "code",
   "execution_count": 34,
   "metadata": {},
   "outputs": [],
   "source": [
    "# Define model parameters\n",
    "epochs = 50\n",
    "batch_size = 30\n",
    "learning_rate = 0.01"
   ]
  },
  {
   "cell_type": "code",
   "execution_count": 29,
   "metadata": {},
   "outputs": [],
   "source": [
    "class CNN(nn.Module):\n",
    "    def __init__(self):\n",
    "        super(CNN, self).__init__()\n",
    "        self.conv1 = nn.Conv2d(in_channels=3, out_channels=10, kernel_size=3)\n",
    "        self.conv2 = nn.Conv2d(in_channels=10, out_channels=20, kernel_size=3)\n",
    "        self.conv2_drop = nn.Dropout2d()\n",
    "        self.fc1 = nn.Linear(720, 1024)\n",
    "        self.fc2 = nn.Linear(1024, 2)\n",
    "\n",
    "    def forward(self, x):\n",
    "        x = F.relu(F.max_pool2d(self.conv1(x), 2))\n",
    "        x = F.relu(F.max_pool2d(self.conv2_drop(self.conv2(x)), 2))\n",
    "        x = x.view(x.shape[0], -1)\n",
    "        x = F.relu(self.fc1(x))\n",
    "        x = F.dropout(x, training=self.training)\n",
    "        x = self.fc2(x)\n",
    "        return x"
   ]
  },
  {
   "cell_type": "code",
   "execution_count": 30,
   "metadata": {},
   "outputs": [
    {
     "name": "stdout",
     "output_type": "stream",
     "text": [
      "CNN(\n",
      "  (conv1): Conv2d(3, 10, kernel_size=(3, 3), stride=(1, 1))\n",
      "  (conv2): Conv2d(10, 20, kernel_size=(3, 3), stride=(1, 1))\n",
      "  (conv2_drop): Dropout2d(p=0.5, inplace=False)\n",
      "  (fc1): Linear(in_features=720, out_features=1024, bias=True)\n",
      "  (fc2): Linear(in_features=1024, out_features=2, bias=True)\n",
      ")\n"
     ]
    }
   ],
   "source": [
    "model = CNN()\n",
    "print(model)"
   ]
  },
  {
   "cell_type": "code",
   "execution_count": 36,
   "metadata": {},
   "outputs": [
    {
     "name": "stdout",
     "output_type": "stream",
     "text": [
      "Epoch: 0, Training loss: 0.308940, Validation loss: 0.189396\n",
      "Epoch: 1, Training loss: 0.156782, Validation loss: 0.114058\n",
      "Epoch: 2, Training loss: 0.125169, Validation loss: 0.087617\n",
      "Epoch: 3, Training loss: 0.110864, Validation loss: 0.082011\n",
      "Epoch: 4, Training loss: 0.103199, Validation loss: 0.084596\n",
      "Epoch: 5, Training loss: 0.097570, Validation loss: 0.076881\n",
      "Epoch: 6, Training loss: 0.092762, Validation loss: 0.075172\n",
      "Epoch: 7, Training loss: 0.086977, Validation loss: 0.069801\n",
      "Epoch: 8, Training loss: 0.084353, Validation loss: 0.074579\n",
      "Epoch: 9, Training loss: 0.081687, Validation loss: 0.072582\n",
      "Epoch: 10, Training loss: 0.077043, Validation loss: 0.091554\n",
      "Epoch: 11, Training loss: 0.075966, Validation loss: 0.061684\n",
      "Epoch: 12, Training loss: 0.070739, Validation loss: 0.059516\n",
      "Epoch: 13, Training loss: 0.067595, Validation loss: 0.060192\n",
      "Epoch: 14, Training loss: 0.065509, Validation loss: 0.060046\n",
      "Epoch: 15, Training loss: 0.063003, Validation loss: 0.053942\n",
      "Epoch: 16, Training loss: 0.064018, Validation loss: 0.052675\n",
      "Epoch: 17, Training loss: 0.059165, Validation loss: 0.051887\n",
      "Epoch: 18, Training loss: 0.056168, Validation loss: 0.053330\n",
      "Epoch: 19, Training loss: 0.059600, Validation loss: 0.049789\n",
      "Epoch: 20, Training loss: 0.053723, Validation loss: 0.047282\n",
      "Epoch: 21, Training loss: 0.057647, Validation loss: 0.057815\n",
      "Epoch: 22, Training loss: 0.050216, Validation loss: 0.050332\n",
      "Epoch: 23, Training loss: 0.047983, Validation loss: 0.058395\n",
      "Epoch: 24, Training loss: 0.048409, Validation loss: 0.046356\n",
      "Epoch: 25, Training loss: 0.048669, Validation loss: 0.043905\n",
      "Epoch: 26, Training loss: 0.049051, Validation loss: 0.044086\n",
      "Epoch: 27, Training loss: 0.044755, Validation loss: 0.042744\n",
      "Epoch: 28, Training loss: 0.045003, Validation loss: 0.041280\n",
      "Epoch: 29, Training loss: 0.044851, Validation loss: 0.040628\n",
      "Epoch: 30, Training loss: 0.044007, Validation loss: 0.037748\n",
      "Epoch: 31, Training loss: 0.040497, Validation loss: 0.039490\n",
      "Epoch: 32, Training loss: 0.040138, Validation loss: 0.045143\n",
      "Epoch: 33, Training loss: 0.040510, Validation loss: 0.042047\n",
      "Epoch: 34, Training loss: 0.039653, Validation loss: 0.041649\n",
      "Epoch: 35, Training loss: 0.040254, Validation loss: 0.036764\n",
      "Epoch: 36, Training loss: 0.038184, Validation loss: 0.037732\n",
      "Epoch: 37, Training loss: 0.036684, Validation loss: 0.038220\n",
      "Epoch: 38, Training loss: 0.035029, Validation loss: 0.035193\n",
      "Epoch: 39, Training loss: 0.037827, Validation loss: 0.035971\n",
      "Epoch: 40, Training loss: 0.035621, Validation loss: 0.035270\n",
      "Epoch: 41, Training loss: 0.039125, Validation loss: 0.040202\n",
      "Epoch: 42, Training loss: 0.035786, Validation loss: 0.040342\n",
      "Epoch: 43, Training loss: 0.032775, Validation loss: 0.046097\n",
      "Epoch: 44, Training loss: 0.034529, Validation loss: 0.034822\n",
      "Epoch: 45, Training loss: 0.033441, Validation loss: 0.043534\n",
      "Epoch: 46, Training loss: 0.032847, Validation loss: 0.033853\n",
      "Epoch: 47, Training loss: 0.034868, Validation loss: 0.034497\n",
      "Epoch: 48, Training loss: 0.032361, Validation loss: 0.040859\n",
      "Epoch: 49, Training loss: 0.031940, Validation loss: 0.033622\n"
     ]
    }
   ],
   "source": [
    "criterion = nn.CrossEntropyLoss()\n",
    "optimizer = optim.SGD(model.parameters(),\n",
    "                      lr=learning_rate)\n",
    "\n",
    "train_losses = []\n",
    "val_losses = []\n",
    "\n",
    "for epoch in range(epochs):\n",
    "    train_loss = 0.0\n",
    "    val_loss = 0.0\n",
    "\n",
    "    model.train()\n",
    "    for data, target in train_loader:\n",
    "        optimizer.zero_grad()\n",
    "\n",
    "        output = model(data)\n",
    "        loss = criterion(output, target)\n",
    "        loss.backward()\n",
    "        optimizer.step()\n",
    "        train_loss += loss.item() * data.size(0)\n",
    "    \n",
    "    model.eval()\n",
    "    for data, target in val_loader:\n",
    "        output = model(data)\n",
    "        loss = criterion(output, target)\n",
    "        val_loss += loss.item() * data.size(0)\n",
    "    \n",
    "    train_loss = train_loss / len(train_loader.sampler)\n",
    "    val_loss = val_loss / len(val_loader.sampler)\n",
    "    train_losses.append(train_loss)\n",
    "    val_losses.append(val_loss)\n",
    "\n",
    "    print(f'Epoch: {epoch}, Training loss: {train_loss:.6f}, Validation loss: {val_loss:.6f}')"
   ]
  },
  {
   "cell_type": "code",
   "execution_count": 37,
   "metadata": {},
   "outputs": [
    {
     "name": "stdout",
     "output_type": "stream",
     "text": [
      "Test Accuracy of the model: 99.02857142857142 %\n"
     ]
    }
   ],
   "source": [
    "# Evaluating the model now on test data\n",
    "model.eval()\n",
    "with torch.inference_mode():\n",
    "    correct = 0\n",
    "    total = 0\n",
    "\n",
    "    for images, labels in val_loader:\n",
    "        outputs = model(images)\n",
    "        _, predicted = torch.max(outputs.data, 1)\n",
    "        total += labels.size(0)\n",
    "\n",
    "        correct += (predicted == labels).sum().item()\n",
    "        \n",
    "    print('Test Accuracy of the model: {} %'.format(100 * correct / total))"
   ]
  },
  {
   "cell_type": "code",
   "execution_count": 38,
   "metadata": {},
   "outputs": [],
   "source": [
    "# Save the model\n",
    "torch.save(model.state_dict(), 'model.ckpt')"
   ]
  },
  {
   "cell_type": "code",
   "execution_count": null,
   "metadata": {},
   "outputs": [],
   "source": []
  }
 ],
 "metadata": {
  "kernelspec": {
   "display_name": "Python 3",
   "language": "python",
   "name": "python3"
  },
  "language_info": {
   "codemirror_mode": {
    "name": "ipython",
    "version": 3
   },
   "file_extension": ".py",
   "mimetype": "text/x-python",
   "name": "python",
   "nbconvert_exporter": "python",
   "pygments_lexer": "ipython3",
   "version": "3.10.7"
  },
  "orig_nbformat": 4
 },
 "nbformat": 4,
 "nbformat_minor": 2
}
